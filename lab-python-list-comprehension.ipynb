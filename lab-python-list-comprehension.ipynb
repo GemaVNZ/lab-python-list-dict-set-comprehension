{
 "cells": [
  {
   "cell_type": "markdown",
   "id": "25d7736c-ba17-4aff-b6bb-66eba20fbf4e",
   "metadata": {},
   "source": [
    "# Lab | List, Dict and Set Comprehension"
   ]
  },
  {
   "cell_type": "markdown",
   "id": "7dd3cbde-675a-4b81-92c3-f728846dbe06",
   "metadata": {},
   "source": [
    "## Exercise: Managing Customer Orders Optimized with Comprehension"
   ]
  },
  {
   "cell_type": "markdown",
   "id": "5d500160-2fb7-4777-b5e4-09d45ebaf328",
   "metadata": {},
   "source": [
    "In the previous exercise, you developed a program to manage customer orders and inventory. Now, let's take it a step further and incorporate comprehension into your code.\n",
    "\n",
    "Follow the steps below to complete the exercise:\n",
    "\n",
    "1. Review your code from the previous exercise and identify areas where you can apply comprehension to simplify and streamline your code. \n",
    "\n",
    "    - *Hint: Apply it to initialize inventory, updating the inventory and printing the updated inventory.*\n",
    "    \n",
    "    - For example, in initializing the inventory, we could have:\n",
    "    \n",
    "        ```python\n",
    "        def initialize_inventory(products):\n",
    "            inventory = {product: int(input(f\"Enter the quantity of {product}s available: \")) for product in products}\n",
    "            return inventory\n",
    "\n",
    "        ```\n",
    "<br>\n",
    "    \n",
    "    \n",
    "2. Modify the function get_customer_orders so it prompts the user to enter the number of customer orders and gathers the product names using a loop and user input. Use comprehension.\n",
    "\n",
    "3. Add a new function to calculate the total price of the customer order. For each product in customer_orders, prompt the user to enter the price of that product. Use comprehension to calculate the total price. Note: assume that the user can only have 1 unit of each product.\n",
    "\n",
    "4. Modify the update_inventory function to remove the product from the inventory if its quantity becomes zero after fulfilling the customer orders. Use comprehension to filter out the products with a quantity of zero from the inventory.\n",
    "\n",
    "5. Print the total price of the customer order.\n",
    "\n",
    "Your code should produce output similar to the following:\n",
    "\n",
    "```python\n",
    "Enter the quantity of t-shirts available:  5\n",
    "Enter the quantity of mugs available:  4\n",
    "Enter the quantity of hats available:  3\n",
    "Enter the quantity of books available:  2\n",
    "Enter the quantity of keychains available:  1\n",
    "Enter the number of customer orders:  2\n",
    "Enter the name of a product that a customer wants to order:  hat\n",
    "Enter the name of a product that a customer wants to order:  keychain\n",
    "\n",
    "Order Statistics:\n",
    "Total Products Ordered: 2\n",
    "Percentage of Unique Products Ordered: 40.0\n",
    "\n",
    "Updated Inventory:\n",
    "t-shirt: 5\n",
    "mug: 4\n",
    "hat: 2\n",
    "book: 2\n",
    "Enter the price of keychain:  5\n",
    "Enter the price of hat:  10\n",
    "Total Price: 15.0\n",
    "\n",
    "```\n"
   ]
  },
  {
   "cell_type": "code",
   "execution_count": 43,
   "id": "37f3f2fa",
   "metadata": {},
   "outputs": [],
   "source": [
    "def initialize_inventory(products):\n",
    "    inventory = {product: int(input(f\"Enter the quantity of {product}s available: \")) for product in products}\n",
    "    return inventory\n",
    "\n",
    "def get_customer_orders(products):\n",
    "    number_of_orders = int(input(\"Enter the total number of orders: \"))\n",
    "    customer_orders = {input(f\"Enter the name of product that a customer wants to order {i+1}: \"): int(input(f\"Enter the quantity for product {i+1}: \")) for i in range(number_of_orders)}\n",
    "    return customer_orders\n",
    "\n",
    "def calculate_total_price(customer_orders):\n",
    "    total_price = sum (int(input(f\"Enter the price of {product}: \")) for product in customer_orders)\n",
    "    return total_price\n",
    "\n",
    "def update_inventory(inventory, customer_orders):\n",
    "    inventory = {product: inventory[product] - customer_orders[product] if product in customer_orders else inventory[product] for product in inventory} \n",
    "    inventory = {product: quantity for product, quantity in inventory.items() if quantity > 0}\n",
    "    return inventory"
   ]
  },
  {
   "cell_type": "code",
   "execution_count": 44,
   "id": "3fdb1f13",
   "metadata": {},
   "outputs": [
    {
     "name": "stdout",
     "output_type": "stream",
     "text": [
      "Total of the products: ['laptop', 'tablet', 'tv', 'monitor', 'mouse', 'keyboard', 'headphones', 'speaker', 'earphones']\n",
      "Inventory: {'laptop': 5, 'tablet': 6, 'tv': 8, 'monitor': 9, 'mouse': 4, 'keyboard': 5, 'headphones': 9, 'speaker': 8, 'earphones': 7}\n",
      "Enter the number of customer orders: {'monitor': 15, 'speaker': 5}\n",
      "Enter the name of a product that a customer wants to order: {'monitor': 15, 'speaker': 5}\n",
      "Total price for the customer order: 175\n",
      "Remaining inventory: {'laptop': 5, 'tablet': 6, 'tv': 8, 'mouse': 4, 'keyboard': 5, 'headphones': 9, 'speaker': 3, 'earphones': 7}\n",
      "Updated inventory: {'laptop': 5, 'tablet': 6, 'tv': 8, 'mouse': 4, 'keyboard': 5, 'headphones': 9, 'speaker': 3, 'earphones': 7}\n"
     ]
    }
   ],
   "source": [
    "# Se inicializan los productos disponibles \n",
    "products = [\"laptop\", \"tablet\", \"tv\", \"monitor\", \"mouse\", \"keyboard\", \"headphones\", \"speaker\", \"earphones\"]\n",
    "print(f\"Total of the products: {products}\")\n",
    "\n",
    "# Se inicializa el inventario con los productos\n",
    "inventory = initialize_inventory(products)\n",
    "print (f\"Inventory: {inventory}\")\n",
    "\n",
    "# Se recoge los productos que se van a pedir \n",
    "orders = get_customer_orders(products)\n",
    "print (f\"Enter the number of customer orders :{len(orders)}\")\n",
    "print(f\"Enter the name of a product that a customer wants to order: {orders}\")\n",
    "\n",
    "# Se calcula el precio total de los pedidos\n",
    "total_price = calculate_total_price(orders)\n",
    "print(f\"Total price for the customer order: {total_price}\")\n",
    "\n",
    "# Se actualiza el inventario solo una vez y almacenar el resultado\n",
    "finally_inventory = update_inventory(inventory, orders)\n",
    "\n",
    "# Imprimir el inventario actualizado\n",
    "print(\"Updated inventory:\", finally_inventory)"
   ]
  }
 ],
 "metadata": {
  "kernelspec": {
   "display_name": "Python 3 (ipykernel)",
   "language": "python",
   "name": "python3"
  },
  "language_info": {
   "codemirror_mode": {
    "name": "ipython",
    "version": 3
   },
   "file_extension": ".py",
   "mimetype": "text/x-python",
   "name": "python",
   "nbconvert_exporter": "python",
   "pygments_lexer": "ipython3",
   "version": "3.12.4"
  }
 },
 "nbformat": 4,
 "nbformat_minor": 5
}
